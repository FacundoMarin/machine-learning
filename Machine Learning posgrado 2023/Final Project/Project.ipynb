{
 "cells": [
  {
   "cell_type": "markdown",
   "metadata": {},
   "source": [
    "# ST Himark Final project\n",
    "\n",
    "In this project we are going to analyze text data from a fictional social network posted by fictional citizens from different regions \n",
    "across several days."
   ]
  },
  {
   "cell_type": "code",
   "execution_count": 2,
   "metadata": {},
   "outputs": [
    {
     "data": {
      "text/html": [
       "<div>\n",
       "<style scoped>\n",
       "    .dataframe tbody tr th:only-of-type {\n",
       "        vertical-align: middle;\n",
       "    }\n",
       "\n",
       "    .dataframe tbody tr th {\n",
       "        vertical-align: top;\n",
       "    }\n",
       "\n",
       "    .dataframe thead th {\n",
       "        text-align: right;\n",
       "    }\n",
       "</style>\n",
       "<table border=\"1\" class=\"dataframe\">\n",
       "  <thead>\n",
       "    <tr style=\"text-align: right;\">\n",
       "      <th></th>\n",
       "      <th>time</th>\n",
       "      <th>location</th>\n",
       "      <th>account</th>\n",
       "      <th>message</th>\n",
       "    </tr>\n",
       "  </thead>\n",
       "  <tbody>\n",
       "    <tr>\n",
       "      <th>0</th>\n",
       "      <td>2020-04-06 00:00:00</td>\n",
       "      <td>Weston</td>\n",
       "      <td>Opportunities2</td>\n",
       "      <td>Take advantheeseage of theesehese One, theeser...</td>\n",
       "    </tr>\n",
       "    <tr>\n",
       "      <th>1</th>\n",
       "      <td>2020-04-06 00:00:00</td>\n",
       "      <td>Southton</td>\n",
       "      <td>LazyBCouch</td>\n",
       "      <td>@WatchesThomasBird fork it you're back in he s...</td>\n",
       "    </tr>\n",
       "    <tr>\n",
       "      <th>2</th>\n",
       "      <td>2020-04-06 00:02:00</td>\n",
       "      <td>Southton</td>\n",
       "      <td>______3333_____</td>\n",
       "      <td>Two month left bedoreefore you loose this vibe...</td>\n",
       "    </tr>\n",
       "    <tr>\n",
       "      <th>3</th>\n",
       "      <td>2020-04-06 00:04:00</td>\n",
       "      <td>Broadview</td>\n",
       "      <td>RasoHorse49</td>\n",
       "      <td>billeeeeer, i miss ytouou !</td>\n",
       "    </tr>\n",
       "    <tr>\n",
       "      <th>4</th>\n",
       "      <td>2020-04-06 00:07:00</td>\n",
       "      <td>West Parton</td>\n",
       "      <td>CuriousPlateBobbie_Mallon</td>\n",
       "      <td>You obviously need to use rumble! #rumble #toW...</td>\n",
       "    </tr>\n",
       "  </tbody>\n",
       "</table>\n",
       "</div>"
      ],
      "text/plain": [
       "                  time     location                    account  \\\n",
       "0  2020-04-06 00:00:00       Weston             Opportunities2   \n",
       "1  2020-04-06 00:00:00     Southton                 LazyBCouch   \n",
       "2  2020-04-06 00:02:00     Southton            ______3333_____   \n",
       "3  2020-04-06 00:04:00    Broadview                RasoHorse49   \n",
       "4  2020-04-06 00:07:00  West Parton  CuriousPlateBobbie_Mallon   \n",
       "\n",
       "                                             message  \n",
       "0  Take advantheeseage of theesehese One, theeser...  \n",
       "1  @WatchesThomasBird fork it you're back in he s...  \n",
       "2  Two month left bedoreefore you loose this vibe...  \n",
       "3                        billeeeeer, i miss ytouou !  \n",
       "4  You obviously need to use rumble! #rumble #toW...  "
      ]
     },
     "execution_count": 2,
     "metadata": {},
     "output_type": "execute_result"
    }
   ],
   "source": [
    "import pandas as pd\n",
    "import numpy as np\n",
    "import matplotlib.pyplot as plt\n",
    "import seaborn as sns\n",
    "\n",
    "db_path = \"data/YInt.csv\"\n",
    "\n",
    "df = pd.read_csv(db_path)\n",
    "\n",
    "df.head()"
   ]
  }
 ],
 "metadata": {
  "kernelspec": {
   "display_name": "Python 3",
   "language": "python",
   "name": "python3"
  },
  "language_info": {
   "codemirror_mode": {
    "name": "ipython",
    "version": 3
   },
   "file_extension": ".py",
   "mimetype": "text/x-python",
   "name": "python",
   "nbconvert_exporter": "python",
   "pygments_lexer": "ipython3",
   "version": "3.11.3"
  }
 },
 "nbformat": 4,
 "nbformat_minor": 2
}
