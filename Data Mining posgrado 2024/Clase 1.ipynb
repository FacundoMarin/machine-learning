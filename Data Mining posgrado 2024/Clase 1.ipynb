{
 "cells": [
  {
   "cell_type": "markdown",
   "metadata": {},
   "source": [
    "# Clase 1\n",
    "\n",
    "En este notebook, realizaremos los ejercicios planteados [acá](https://colab.research.google.com/drive/175WnSI6Lw66rlDzBGzehTJaltnT6oGts?usp=sharing#scrollTo=XjaiegV9lvwM).\n",
    "\n",
    "## Ejercicio 1\n",
    "\n",
    "Aplicar los pasos del ejemplo 1 en las siguientes oraciones:\n",
    "\n",
    "Oración 1: To be or not to be.\n",
    "\n",
    "Oración 2: Common words like its, an, the, for, and that, are all considered stop words. While they're important for communicating verbally, stop words typically carry little importance to SEO and are often ignored by search engines."
   ]
  },
  {
   "cell_type": "code",
   "execution_count": 1,
   "metadata": {},
   "outputs": [
    {
     "name": "stderr",
     "output_type": "stream",
     "text": [
      "[nltk_data] Downloading collection 'popular'\n",
      "[nltk_data]    | \n",
      "[nltk_data]    | Downloading package cmudict to\n",
      "[nltk_data]    |     C:\\Users\\facum\\AppData\\Roaming\\nltk_data...\n",
      "[nltk_data]    |   Package cmudict is already up-to-date!\n",
      "[nltk_data]    | Downloading package gazetteers to\n",
      "[nltk_data]    |     C:\\Users\\facum\\AppData\\Roaming\\nltk_data...\n",
      "[nltk_data]    |   Package gazetteers is already up-to-date!\n",
      "[nltk_data]    | Downloading package genesis to\n",
      "[nltk_data]    |     C:\\Users\\facum\\AppData\\Roaming\\nltk_data...\n",
      "[nltk_data]    |   Package genesis is already up-to-date!\n",
      "[nltk_data]    | Downloading package gutenberg to\n",
      "[nltk_data]    |     C:\\Users\\facum\\AppData\\Roaming\\nltk_data...\n",
      "[nltk_data]    |   Package gutenberg is already up-to-date!\n",
      "[nltk_data]    | Downloading package inaugural to\n",
      "[nltk_data]    |     C:\\Users\\facum\\AppData\\Roaming\\nltk_data...\n",
      "[nltk_data]    |   Package inaugural is already up-to-date!\n",
      "[nltk_data]    | Downloading package movie_reviews to\n",
      "[nltk_data]    |     C:\\Users\\facum\\AppData\\Roaming\\nltk_data...\n",
      "[nltk_data]    |   Package movie_reviews is already up-to-date!\n",
      "[nltk_data]    | Downloading package names to\n",
      "[nltk_data]    |     C:\\Users\\facum\\AppData\\Roaming\\nltk_data...\n",
      "[nltk_data]    |   Package names is already up-to-date!\n",
      "[nltk_data]    | Downloading package shakespeare to\n",
      "[nltk_data]    |     C:\\Users\\facum\\AppData\\Roaming\\nltk_data...\n",
      "[nltk_data]    |   Package shakespeare is already up-to-date!\n",
      "[nltk_data]    | Downloading package stopwords to\n",
      "[nltk_data]    |     C:\\Users\\facum\\AppData\\Roaming\\nltk_data...\n",
      "[nltk_data]    |   Package stopwords is already up-to-date!\n",
      "[nltk_data]    | Downloading package treebank to\n",
      "[nltk_data]    |     C:\\Users\\facum\\AppData\\Roaming\\nltk_data...\n",
      "[nltk_data]    |   Package treebank is already up-to-date!\n",
      "[nltk_data]    | Downloading package twitter_samples to\n",
      "[nltk_data]    |     C:\\Users\\facum\\AppData\\Roaming\\nltk_data...\n",
      "[nltk_data]    |   Package twitter_samples is already up-to-date!\n",
      "[nltk_data]    | Downloading package omw to\n",
      "[nltk_data]    |     C:\\Users\\facum\\AppData\\Roaming\\nltk_data...\n",
      "[nltk_data]    |   Package omw is already up-to-date!\n",
      "[nltk_data]    | Downloading package omw-1.4 to\n",
      "[nltk_data]    |     C:\\Users\\facum\\AppData\\Roaming\\nltk_data...\n",
      "[nltk_data]    |   Package omw-1.4 is already up-to-date!\n",
      "[nltk_data]    | Downloading package wordnet to\n",
      "[nltk_data]    |     C:\\Users\\facum\\AppData\\Roaming\\nltk_data...\n",
      "[nltk_data]    |   Package wordnet is already up-to-date!\n",
      "[nltk_data]    | Downloading package wordnet2021 to\n",
      "[nltk_data]    |     C:\\Users\\facum\\AppData\\Roaming\\nltk_data...\n",
      "[nltk_data]    |   Package wordnet2021 is already up-to-date!\n",
      "[nltk_data]    | Downloading package wordnet31 to\n",
      "[nltk_data]    |     C:\\Users\\facum\\AppData\\Roaming\\nltk_data...\n",
      "[nltk_data]    |   Package wordnet31 is already up-to-date!\n",
      "[nltk_data]    | Downloading package wordnet_ic to\n",
      "[nltk_data]    |     C:\\Users\\facum\\AppData\\Roaming\\nltk_data...\n",
      "[nltk_data]    |   Package wordnet_ic is already up-to-date!\n",
      "[nltk_data]    | Downloading package words to\n",
      "[nltk_data]    |     C:\\Users\\facum\\AppData\\Roaming\\nltk_data...\n",
      "[nltk_data]    |   Package words is already up-to-date!\n",
      "[nltk_data]    | Downloading package maxent_ne_chunker to\n",
      "[nltk_data]    |     C:\\Users\\facum\\AppData\\Roaming\\nltk_data...\n",
      "[nltk_data]    |   Package maxent_ne_chunker is already up-to-date!\n",
      "[nltk_data]    | Downloading package punkt to\n",
      "[nltk_data]    |     C:\\Users\\facum\\AppData\\Roaming\\nltk_data...\n",
      "[nltk_data]    |   Package punkt is already up-to-date!\n",
      "[nltk_data]    | Downloading package snowball_data to\n",
      "[nltk_data]    |     C:\\Users\\facum\\AppData\\Roaming\\nltk_data...\n",
      "[nltk_data]    |   Package snowball_data is already up-to-date!\n",
      "[nltk_data]    | Downloading package averaged_perceptron_tagger to\n",
      "[nltk_data]    |     C:\\Users\\facum\\AppData\\Roaming\\nltk_data...\n",
      "[nltk_data]    |   Package averaged_perceptron_tagger is already up-\n",
      "[nltk_data]    |       to-date!\n",
      "[nltk_data]    | \n",
      "[nltk_data]  Done downloading collection popular\n"
     ]
    },
    {
     "data": {
      "text/plain": [
       "True"
      ]
     },
     "execution_count": 1,
     "metadata": {},
     "output_type": "execute_result"
    }
   ],
   "source": [
    "import nltk\n",
    "import string\n",
    "import math\n",
    "import numpy\n",
    "import matplotlib\n",
    "\n",
    "nltk.download(\"popular\")"
   ]
  },
  {
   "cell_type": "code",
   "execution_count": 2,
   "metadata": {},
   "outputs": [
    {
     "name": "stdout",
     "output_type": "stream",
     "text": [
      "['to', 'be', 'or', 'not', 'to', 'be', '.']\n",
      "['common', 'words', 'like', 'its', ',', 'an', ',', 'the', ',', 'for', ',', 'and', 'that', ',', 'are', 'all', 'considered', 'stop', 'words', '.', 'while', 'they', \"'re\", 'important', 'for', 'communicating', 'verbally', ',', 'stop', 'words', 'typically', 'carry', 'little', 'importance', 'to', 'seo', 'and', 'are', 'often', 'ignored', 'by', 'search', 'engines', '.']\n"
     ]
    }
   ],
   "source": [
    "sentence1 = \"To be or not to be.\"\n",
    "sentence2 = \" Common words like its, an, the, for, and that, are all considered stop words. While they're important for communicating verbally, stop words typically carry little importance to SEO and are often ignored by search engines.\"\n",
    "\n",
    "sentence1_lc = [word.lower() for word in nltk.word_tokenize(sentence1)]\n",
    "sentence2_lc = [word.lower() for word in nltk.word_tokenize(sentence2)]\n",
    "\n",
    "print(sentence1_lc)\n",
    "print(sentence2_lc)\n",
    "\n",
    "stopwords = nltk.corpus.stopwords.words(\"english\")\n",
    "stemmer = nltk.stem.PorterStemmer()"
   ]
  },
  {
   "cell_type": "code",
   "execution_count": 3,
   "metadata": {},
   "outputs": [
    {
     "name": "stdout",
     "output_type": "stream",
     "text": [
      "[]\n",
      "['common', 'word', 'like', 'consid', 'stop', 'word', \"'re\", 'import', 'commun', 'verbal', 'stop', 'word', 'typic', 'carri', 'littl', 'import', 'seo', 'often', 'ignor', 'search', 'engin']\n"
     ]
    }
   ],
   "source": [
    "stems1, stems2 = [], []\n",
    "for token in sentence1_lc:\n",
    "    # Process each token\n",
    "    if token not in string.punctuation:\n",
    "        if token not in stopwords:\n",
    "            token = stemmer.stem(token)\n",
    "            stems1.append(token)\n",
    "\n",
    "for token in sentence2_lc:\n",
    "    # Process each token\n",
    "    if token not in string.punctuation:\n",
    "        if token not in stopwords:\n",
    "            token = stemmer.stem(token)\n",
    "            stems2.append(token)\n",
    "\n",
    "print(stems1)\n",
    "print(stems2)"
   ]
  },
  {
   "cell_type": "code",
   "execution_count": 4,
   "metadata": {},
   "outputs": [
    {
     "name": "stdout",
     "output_type": "stream",
     "text": [
      "[]\n",
      "['common', 'word', 'like', 'considered', 'stop', 'word', \"'re\", 'important', 'communicating', 'verbally', 'stop', 'word', 'typically', 'carry', 'little', 'importance', 'seo', 'often', 'ignored', 'search', 'engine']\n"
     ]
    }
   ],
   "source": [
    "from nltk.stem import WordNetLemmatizer\n",
    "\n",
    "lemmatizer = WordNetLemmatizer()\n",
    "\n",
    "lemmas1, lemmas2 = [], []\n",
    "for token in sentence1_lc:\n",
    "    # Process each token\n",
    "    if token not in string.punctuation:\n",
    "        if token not in stopwords:\n",
    "            lemma = lemmatizer.lemmatize(token)\n",
    "            lemmas1.append(lemma)\n",
    "\n",
    "for token in sentence2_lc:\n",
    "    # Process each token\n",
    "    if token not in string.punctuation:\n",
    "        if token not in stopwords:\n",
    "            lemma = lemmatizer.lemmatize(token)\n",
    "            lemmas2.append(lemma)\n",
    "\n",
    "print(lemmas1)\n",
    "print(lemmas2)"
   ]
  },
  {
   "cell_type": "code",
   "execution_count": 5,
   "metadata": {},
   "outputs": [
    {
     "name": "stdout",
     "output_type": "stream",
     "text": [
      "To to To\n",
      "be be be\n",
      "or or or\n",
      "not not not\n",
      "to to to\n",
      "be be be\n",
      ". . .\n",
      "Common common Common\n",
      "words word word\n",
      "like like like\n",
      "its it it\n",
      ", , ,\n",
      "an an an\n",
      ", , ,\n",
      "the the the\n",
      ", , ,\n",
      "for for for\n",
      ", , ,\n",
      "and and and\n",
      "that that that\n",
      ", , ,\n",
      "are are are\n",
      "all all all\n",
      "considered consid considered\n",
      "stop stop stop\n",
      "words word word\n",
      ". . .\n",
      "While while While\n",
      "they they they\n",
      "'re 're 're\n",
      "important import important\n",
      "for for for\n",
      "communicating commun communicating\n",
      "verbally verbal verbally\n",
      ", , ,\n",
      "stop stop stop\n",
      "words word word\n",
      "typically typic typically\n",
      "carry carri carry\n",
      "little littl little\n",
      "importance import importance\n",
      "to to to\n",
      "SEO seo SEO\n",
      "and and and\n",
      "are are are\n",
      "often often often\n",
      "ignored ignor ignored\n",
      "by by by\n",
      "search search search\n",
      "engines engin engine\n",
      ". . .\n"
     ]
    }
   ],
   "source": [
    "for token in nltk.word_tokenize(sentence1):\n",
    "    print(token + \" \" + stemmer.stem(token) + \" \" + lemmatizer.lemmatize(token))\n",
    "\n",
    "for token in nltk.word_tokenize(sentence2):\n",
    "    print(token + \" \" + stemmer.stem(token) + \" \" + lemmatizer.lemmatize(token))"
   ]
  },
  {
   "cell_type": "code",
   "execution_count": 8,
   "metadata": {},
   "outputs": [
    {
     "name": "stdout",
     "output_type": "stream",
     "text": [
      "to\n",
      "be\n",
      "or\n",
      "not\n",
      "to\n",
      "be\n",
      ".\n",
      " \n",
      "common\n",
      "word\n",
      "like\n",
      "its\n",
      ",\n",
      "an\n",
      ",\n",
      "the\n",
      ",\n",
      "for\n",
      ",\n",
      "and\n",
      "that\n",
      ",\n",
      "be\n",
      "all\n",
      "consider\n",
      "stop\n",
      "word\n",
      ".\n",
      "while\n",
      "they\n",
      "be\n",
      "important\n",
      "for\n",
      "communicate\n",
      "verbally\n",
      ",\n",
      "stop\n",
      "word\n",
      "typically\n",
      "carry\n",
      "little\n",
      "importance\n",
      "to\n",
      "seo\n",
      "and\n",
      "be\n",
      "often\n",
      "ignore\n",
      "by\n",
      "search\n",
      "engine\n",
      ".\n"
     ]
    }
   ],
   "source": [
    "import spacy\n",
    "import en_core_web_sm\n",
    "\n",
    "nlp = en_core_web_sm.load()\n",
    "doc1 = nlp(sentence1)\n",
    "doc2 = nlp(sentence2)\n",
    "for token in doc1:\n",
    "    print(token.lemma_)\n",
    "for token in doc2:\n",
    "    print(token.lemma_)"
   ]
  },
  {
   "cell_type": "markdown",
   "metadata": {},
   "source": [
    "## Ejercicio 2\n",
    "\n",
    "- Repita los pasos del ejemplo 3 sin aplicar stemming e identifique cuál es la palabra clave más representativa (según tfidf) en cada uno de los discursos.\n",
    "- Determinar cuál es el par de discursos más similares entre sí y cuál es el par de discursos menos similares entre sí.\n",
    "- Dado un texto ingresado por el usario y un umbral de similitud t, devolver una lista con los identificadores de archivos de aquellos discursos cuya similitud al texto sea mayor a t. La lista debe estar ordenada de mayor a menor grado de similitud al texto ingresado.\n",
    "- Tomar el [discurso](https://docs.google.com/document/d/1sudCirmOnKlstJa0bB_d3s3b5UEIxVtcGENuzvlnCvo/edit) inagural del presidente Javier Milei traducido al inglés y repetir el ejercicio 3."
   ]
  },
  {
   "cell_type": "markdown",
   "metadata": {},
   "source": [
    "Generamos una matriz TF-IDF a partir del corpus \"Inaugural\" provisto por nltk.\n",
    "\n",
    "Identificamos el conjunto de términos (palabras clave) del corpus y transformamos a cada documento en una lista de términos."
   ]
  },
  {
   "cell_type": "code",
   "execution_count": 9,
   "metadata": {},
   "outputs": [],
   "source": [
    "corpus = []\n",
    "term_set = set ()\n",
    "filenames = []\n",
    "filename_to_id ={}\n",
    "\n",
    "id = 0\n",
    "for filename in nltk.corpus.inaugural.fileids():\n",
    "  filenames.append(filename)\n",
    "  filename_to_id[filename] = id\n",
    "  raw_document = nltk.corpus.inaugural.raw(filename)\n",
    "  tokens_lowercase = [word.lower() for word in nltk.word_tokenize(raw_document)]\n",
    "  terms =[]\n",
    "  for token in tokens_lowercase:\n",
    "    # Process each token\n",
    "    if token not in string.punctuation:\n",
    "      if token not in stopwords:\n",
    "        terms.append(token)\n",
    "        term_set.add(token)\n",
    "  corpus.append(terms)\n",
    "  id += 1\n",
    "num_documents = len(corpus)\n",
    "num_terms = len(term_set)"
   ]
  },
  {
   "cell_type": "markdown",
   "metadata": {},
   "source": [
    "Creamos un mapeo de términos a números (ids)."
   ]
  },
  {
   "cell_type": "code",
   "execution_count": 10,
   "metadata": {},
   "outputs": [],
   "source": [
    "term_to_id = {}\n",
    "id = 0\n",
    "for term in term_set:\n",
    "  term_to_id[term] = id\n",
    "  id += 1\n"
   ]
  },
  {
   "cell_type": "markdown",
   "metadata": {},
   "source": [
    "Creamos una matriz TF."
   ]
  },
  {
   "cell_type": "code",
   "execution_count": 11,
   "metadata": {},
   "outputs": [],
   "source": [
    "tf_matrix = numpy.zeros((num_documents, num_terms))\n",
    "document_id = 0\n",
    "\n",
    "for document in corpus:\n",
    "  for term in set(document):\n",
    "    term_id = term_to_id[term]\n",
    "    tf_matrix[document_id][term_id] = float(document.count(term))\n",
    "  document_id += 1"
   ]
  },
  {
   "cell_type": "markdown",
   "metadata": {},
   "source": [
    "Creamos un vector IDF."
   ]
  },
  {
   "cell_type": "code",
   "execution_count": 12,
   "metadata": {},
   "outputs": [
    {
     "name": "stdout",
     "output_type": "stream",
     "text": [
      "[1.77085201 1.46982202 1.46982202 ... 0.65690866 1.16879202 1.46982202]\n"
     ]
    }
   ],
   "source": [
    "idf_vector = numpy.zeros(num_terms)\n",
    "for term in term_set:\n",
    "  term_document_frequency = 0\n",
    "  for document in corpus:\n",
    "    if term in document:\n",
    "      term_document_frequency += 1\n",
    "  idf_vector[term_to_id[term]] = math.log(float(num_documents) / float(term_document_frequency),10)\n",
    "print(idf_vector)"
   ]
  },
  {
   "cell_type": "markdown",
   "metadata": {},
   "source": [
    "Creamos la matriz TF-IDF."
   ]
  },
  {
   "cell_type": "code",
   "execution_count": 13,
   "metadata": {},
   "outputs": [],
   "source": [
    "tfidf_matrix = numpy.multiply(tf_matrix,idf_vector)"
   ]
  },
  {
   "cell_type": "markdown",
   "metadata": {},
   "source": [
    "Ahora vamos a extraer la palabra más significativa para cada uno de los discursos (documentos), según la tabla que acabamos de crear."
   ]
  },
  {
   "cell_type": "code",
   "execution_count": 14,
   "metadata": {},
   "outputs": [
    {
     "name": "stdout",
     "output_type": "stream",
     "text": [
      "document_name --> most_sig_word = most_sig_score\n",
      "1789-Washington.txt --> immutable = 2.939644031956326\n",
      "1793-Washington.txt --> upbraidings = 1.7708520116421442\n",
      "1797-Adams.txt --> pleasing = 5.879288063912652\n",
      "1801-Jefferson.txt --> thousandth = 3.5417040232842885\n",
      "1805-Jefferson.txt --> whatsoever = 4.4094660479344885\n",
      "1809-Madison.txt --> improvements = 3.215646021918376\n",
      "1813-Madison.txt --> british = 5.359410036530626\n",
      "1817-Monroe.txt --> trials = 4.4094660479344885\n",
      "1821-Monroe.txt --> spain = 5.879288063912652\n",
      "1825-Adams.txt --> union = 5.314040666444764\n",
      "1829-Jackson.txt --> diffidence = 2.5874615138449633\n",
      "1833-Jackson.txt --> inculcate = 2.939644031956326\n",
      "1837-VanBuren.txt --> institutions = 5.431811959730509\n",
      "1841-Harrison.txt --> roman = 12.39596408149501\n",
      "1845-Polk.txt --> texas = 14.69822015978163\n",
      "1849-Taylor.txt --> vested = 2.1437640146122505\n",
      "1853-Pierce.txt --> hardly = 5.1749230276899265\n",
      "1857-Buchanan.txt --> whilst = 5.554523829767324\n",
      "1861-Lincoln.txt --> clause = 7.349110079890815\n",
      "1865-Lincoln.txt --> woe = 5.312556034926432\n",
      "1869-Grant.txt --> dollar = 6.468653784612409\n",
      "1873-Grant.txt --> transit = 5.312556034926432\n",
      "1877-Hayes.txt --> behalf = 4.628769858139437\n",
      "1881-Garfield.txt --> negro = 5.879288063912652\n",
      "1885-Cleveland.txt --> partisan = 4.628769858139437\n",
      "1889-Harrison.txt --> ballot = 8.818932095868977\n",
      "1893-Cleveland.txt --> frugality = 5.312556034926432\n",
      "1897-McKinley.txt --> loans = 8.818932095868977\n",
      "1901-McKinley.txt --> cuba = 8.854260058210722\n",
      "1905-Roosevelt.txt --> regards = 4.4094660479344885\n",
      "1909-Taft.txt --> interstate = 17.708520116421443\n",
      "1913-Wilson.txt --> familiar = 5.312556034926432\n",
      "1917-Wilson.txt --> wished = 7.083408046568577\n",
      "1921-Harding.txt --> relationship = 6.468653784612409\n",
      "1925-Coolidge.txt --> represents = 7.083408046568577\n",
      "1929-Hoover.txt --> enforcement = 9.927007612585005\n",
      "1933-Roosevelt.txt --> helped = 6.948905328809502\n",
      "1937-Roosevelt.txt --> paint = 4.4094660479344885\n",
      "1941-Roosevelt.txt --> speaks = 6.468653784612409\n",
      "1945-Roosevelt.txt --> learned = 3.8542600582107207\n",
      "1949-Truman.txt --> program = 6.948905328809502\n",
      "1953-Eisenhower.txt --> productivity = 5.879288063912652\n",
      "1957-Eisenhower.txt --> strives = 5.312556034926432\n",
      "1961-Kennedy.txt --> sides = 6.532876017622554\n",
      "1965-Johnson.txt --> covenant = 7.01275212188509\n",
      "1969-Nixon.txt --> voices = 6.942096197201604\n",
      "1973-Nixon.txt --> role = 6.074334172551403\n",
      "1977-Carter.txt --> micah = 5.312556034926432\n",
      "1981-Reagan.txt --> heroes = 4.628769858139437\n",
      "1985-Reagan.txt --> nuclear = 6.431292043836752\n",
      "1989-Bush.txt --> n't = 10.519128182827636\n",
      "1993-Clinton.txt --> america = 5.048338633122525\n",
      "1997-Clinton.txt --> century = 8.568586616398758\n",
      "2001-Bush.txt --> story = 9.927007612585005\n",
      "2005-Bush.txt --> america¡¦s = 14.166816093137154\n",
      "2009-Obama.txt --> ... = 3.881192270767445\n",
      "2013-Obama.txt --> journey = 5.206572147901203\n",
      "2017-Trump.txt --> america = 5.314040666444764\n",
      "2021-Biden.txt --> 're = 10.625112069852864\n"
     ]
    }
   ],
   "source": [
    "significant_words = []\n",
    "doc_id = 0\n",
    "most_sig_term  = \"\"\n",
    "most_sig_val = 0\n",
    "\n",
    "print(\"document_name --> most_sig_word = most_sig_score\")\n",
    "\n",
    "for document in tfidf_matrix:\n",
    "    for term in term_set:\n",
    "        term_significance = document[term_to_id[term]]\n",
    "        if term_significance > most_sig_val:\n",
    "            most_sig_val = term_significance\n",
    "            most_sig_term = term\n",
    "    print(filenames[doc_id], \"-->\", most_sig_term, \"=\", most_sig_val)\n",
    "    significant_words.append(most_sig_term)\n",
    "    doc_id += 1\n",
    "    most_sig_term  = \"\"\n",
    "    most_sig_val = 0"
   ]
  },
  {
   "cell_type": "markdown",
   "metadata": {},
   "source": [
    "Lo siguiente que haremos, será determinar el par de discursos más similares entre sí, y el par de discursos más disimilares."
   ]
  },
  {
   "cell_type": "markdown",
   "metadata": {},
   "source": [
    "Normalizamos la matrtiz TF-IDF."
   ]
  },
  {
   "cell_type": "code",
   "execution_count": 15,
   "metadata": {},
   "outputs": [],
   "source": [
    "normalized_tfidf_matrix = numpy.zeros((num_documents, num_terms))\n",
    "document_id = 0\n",
    "for document in tfidf_matrix:\n",
    "  document_norm = numpy.linalg.norm(document)\n",
    "  normalized_tfidf_matrix[document_id] = [w/document_norm for w in document]\n",
    "  document_id += 1"
   ]
  },
  {
   "cell_type": "markdown",
   "metadata": {},
   "source": [
    "Determinamos los pares"
   ]
  },
  {
   "cell_type": "code",
   "execution_count": 16,
   "metadata": {},
   "outputs": [
    {
     "name": "stdout",
     "output_type": "stream",
     "text": [
      "Most similar docs: 1789-Washington.txt 1821-Monroe.txt\n",
      "Similarity:  0.272914006820192\n",
      "Least similar docs: 1793-Washington.txt 1905-Roosevelt.txt\n",
      "Similarity:  0.0036647596828497993\n"
     ]
    }
   ],
   "source": [
    "similarity_matrix = numpy.zeros((num_documents, num_documents))\n",
    "\n",
    "most_similar_ids = [0,0]\n",
    "most_similarity = -math.inf\n",
    "most_disimilar_ids = [0,0]\n",
    "least_similarity = math.inf\n",
    "\n",
    "doc1_id, doc2_id = 0,0\n",
    "\n",
    "for doc1 in normalized_tfidf_matrix:\n",
    "    for doc2 in normalized_tfidf_matrix:    \n",
    "        similarity = numpy.dot(doc1, doc2)\n",
    "        similarity_matrix[doc1_id][doc2_id] = similarity\n",
    "        if doc1_id != doc2_id:\n",
    "            # greatest similarity?\n",
    "            if similarity > most_similarity:\n",
    "                most_similarity = similarity\n",
    "                most_similar_ids = [doc1_id, doc2_id]\n",
    "\n",
    "            # greatest disimilarity?\n",
    "            if similarity < least_similarity:\n",
    "                least_similarity = similarity\n",
    "                least_similar_ids = [doc1_id, doc2_id]\n",
    "\n",
    "        doc2_id += 1\n",
    "    doc2_id = 0\n",
    "    doc1_id += 1\n",
    "\n",
    "print(\"Most similar docs:\", filenames[most_disimilar_ids[0]], filenames[most_similar_ids[1]])\n",
    "print(\"Similarity: \", most_similarity)\n",
    "print(\"Least similar docs:\", filenames[least_similar_ids[0]], filenames[least_similar_ids[1]])\n",
    "print(\"Similarity: \", least_similarity)\n"
   ]
  },
  {
   "cell_type": "markdown",
   "metadata": {},
   "source": [
    "Vamos a visualizar las similitudes para tener una mejor idea de la distribución de valores"
   ]
  },
  {
   "cell_type": "code",
   "execution_count": 17,
   "metadata": {},
   "outputs": [
    {
     "data": {
      "image/png": "[encoded data removed]",
      "text/plain": [
       "<Figure size 640x480 with 1 Axes>"
      ]
     },
     "metadata": {},
     "output_type": "display_data"
    }
   ],
   "source": [
    "import matplotlib.pyplot as plt \n",
    "import seaborn as sns\n",
    "\n",
    "# We remove diagonal elements so we don't take into account perfect similarity values \n",
    "mask = numpy.eye(similarity_matrix.shape[0], dtype=bool)\n",
    "similarity_matrix[mask] = 0\n",
    "similarity_values = similarity_matrix.flatten()\n",
    "\n",
    "sns.kdeplot(similarity_values, fill=True)\n",
    "plt.xlabel('Similarity Values')\n",
    "plt.ylabel('Density')\n",
    "plt.title('Kernel Density Estimation of Document Similarity Values')\n",
    "plt.show()"
   ]
  },
  {
   "cell_type": "code",
   "execution_count": null,
   "metadata": {},
   "outputs": [],
   "source": [
    "from matplotlib.pyplot import figure\n",
    "\n",
    "target_document =  normalized_tfidf_matrix[filename_to_id['2021-Biden.txt']]\n",
    "similarities = numpy.zeros(num_documents)\n",
    "document_id = 0\n",
    "for document in normalized_tfidf_matrix:\n",
    "  similarities[document_id] = numpy.dot(document,target_document)\n",
    "  document_id += 1\n",
    "\n",
    "figure(num=None, figsize=(5, 10), dpi=80, facecolor='w', edgecolor='k')\n",
    "y_pos = numpy.arange(len(filenames))\n",
    "matplotlib.pyplot.barh(y_pos,similarities,tick_label=filenames)"
   ]
  },
  {
   "cell_type": "markdown",
   "metadata": {},
   "source": [
    "Consultas para continuar\n",
    "\n",
    "- Hay que agregar el documento al nuevo al corpus para calcular los valores?\n",
    "- Es relevante?\n",
    "- Es relevante cuando solo se agrega un vector?\n",
    "- Si es irrelevante, como se puede asegurar? Tiene que ver con los vectores diferencia entre los preexistentes y el añadido.\n",
    "\n",
    "- Como usar el indice invertido para queries? "
   ]
  }
 ],
 "metadata": {
  "kernelspec": {
   "display_name": "Python 3",
   "language": "python",
   "name": "python3"
  },
  "language_info": {
   "codemirror_mode": {
    "name": "ipython",
    "version": 3
   },
   "file_extension": ".py",
   "mimetype": "text/x-python",
   "name": "python",
   "nbconvert_exporter": "python",
   "pygments_lexer": "ipython3",
   "version": "3.11.3"
  }
 },
 "nbformat": 4,
 "nbformat_minor": 2
}
